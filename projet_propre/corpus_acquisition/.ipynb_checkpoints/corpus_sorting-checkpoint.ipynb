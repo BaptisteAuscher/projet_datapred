{
 "cells": [
  {
   "cell_type": "code",
   "execution_count": 9,
   "id": "ab66fd1b-e074-457c-b16e-79adbdea084c",
   "metadata": {},
   "outputs": [],
   "source": [
    "import pandas as pd"
   ]
  },
  {
   "cell_type": "code",
   "execution_count": 40,
   "id": "d353f82e-d442-469f-b6a3-74f0f25b4c8b",
   "metadata": {},
   "outputs": [],
   "source": [
    "def sort_corpus_by(keywords) :\n",
    "    \"\"\"\n",
    "    Create a csv file for each list of keyword in keywords, containing all articles from corpus \n",
    "    with the words from the list in them\n",
    "    Example : [[\"france\", \"EDF\"], [\"england\"], [\"russia\"]] gives you :\n",
    "              .... corpus_france_EDF.csv                                \n",
    "              ....... corpus_england.csv\n",
    "              ........ corpus_russia.csv\n",
    "    \"\"\"\n",
    "    corpus = pd.read_csv(\"../corpus/big_corpus.csv\")\n",
    "    colonnes = [\n",
    "        'uri', 'lang', 'isDuplicate', 'date', 'time', 'dateTime', 'dateTimePub',\n",
    "        'dataType', 'sim', 'url', 'title', 'body', 'source_uri', 'source_dataType',\n",
    "        'source_title', 'authors', 'sentiment', 'wgt', 'relevance', 'image', 'eventUri'\n",
    "    ]\n",
    "    sorted_corpus = {\"_\".join(keyword): pd.DataFrame(columns=colonnes) for keyword in keywords}\n",
    "    \n",
    "    df_iterrows = corpus.iterrows()\n",
    "    for index, row in df_iterrows :\n",
    "        for keyword in keywords :\n",
    "            flag = 1\n",
    "            for each_keyword in keyword :\n",
    "                if each_keyword not in row['body'] :\n",
    "                    flag *= 0\n",
    "            if flag == 1 :\n",
    "                sorted_corpus[\"_\".join(keyword)] = pd.concat([sorted_corpus[\"_\".join(keyword)], row.to_frame().T], ignore_index=True)\n",
    "    for keyword in keywords :\n",
    "        name = \"_\".join(keyword)\n",
    "        sorted_corpus[name].to_csv(f\"../corpus/corpus_{name}.csv\", index=False)"
   ]
  },
  {
   "cell_type": "code",
   "execution_count": 46,
   "id": "77ab8778-7e85-4a27-9963-b7b5eb61a0cf",
   "metadata": {},
   "outputs": [],
   "source": [
    "sort_corpus_by([[\"france\", \"electricity\"]])"
   ]
  },
  {
   "cell_type": "code",
   "execution_count": 43,
   "id": "e5f1b936-68a5-4735-ad75-ba10878ce00a",
   "metadata": {
    "scrolled": true
   },
   "outputs": [
    {
     "name": "stdout",
     "output_type": "stream",
     "text": [
      "Grenoble, May 30, 2024 - 6:15 pm CEST - McPhy Energy (the \"Company\") announces that the Combined General Meeting of its shareholders held today (the \"General Meeting\"), under the chairmanship of its Chairman of the Board of Directors (the \"Board\"), approved all the resolutions submitted to it and in particular:\n",
      "\n",
      "The General Meeting approved the Company's financial statements and the related allocation of net income, as well as the Group's consolidated financial statements for the year ended December 31, 2023.\n",
      "\n",
      "The General Meeting also approved:\n",
      "\n",
      "The General Meeting gave the Board full powers to transfer the market for the Company's shares from the regulated Euronext Paris market (Compartment C) to the organized multilateral trading facility Euronext Growth Paris. The Board decided today to implement this transfer. For further details, please refer to the related press release also published today (https://mcphy-finance.com/index.php/en/financial-publications/press-releases).\n",
      "\n",
      "The General Meeting also approved the renewal of the share buy-back program, and authorized the Board to cancel some or all of the Company's treasury shares, within the limits set by the General Meeting. The Board also decided today to implement this program.\n",
      "\n",
      "The General Meeting adopted the resolutions relating to the proposed issues of bonds convertible into new ordinary shares and/or exchangeable for existing ordinary shares reserved to EDF Pulse Holding and EPIC Bpifrance, acting on behalf of the French State under the \"French Tech Souveraineté Agreement\" dated December 11, 2020 and, as the case may be, other investors qualifying as per the categories defined in the 29 resolution of the General Meeting (the \"Issue\").\n",
      "\n",
      "The Board today, implementing the delegations thus granted by the General Meeting, decided to approve the principle of the Bond Issue and to sub-delegate its authority to the Chief Executive Officer, in particular for the purpose of deciding to proceed with the Issue. It is specified that the Issue remains subject to the approval by the Autorité des marchés financiers of the prospectus relating to the application for admission to trading of the new shares to be issued on conversion of the bonds on the regulated market of Euronext in Paris.\n",
      "\n",
      "The Company's shareholders are also invited to regularly consult the information relating to the Issue published on the Company's website, in particular in the \"Financial Operations\" section (https://mcphy-finance.com/index.php/en/financial-publications/financial-operations/financial-transactions).\n",
      "\n",
      "In addition, the General Meeting approved:\n",
      "\n",
      "The results of voting on the resolutions will be available on the Company's website.\n",
      "\n",
      "The Company would like to thank all shareholders present, represented or voting by post or internet for their commitment and support.\n",
      "\n",
      "ABOUT MCPHY\n",
      "\n",
      "Specialized in hydrogen production and distribution equipment, McPhy is contributing to the global deployment of low carbon hydrogen as a solution for energy transition. With its complete range of products dedicated to the industrial, mobility and energy sectors, McPhy offers its customers turnkey solutions adapted to their applications in industrial raw material supply, recharging of fuel cell electric vehicles or storage and recovery of electricity surplus based on renewable sources. As designer, manufacturer and integrator of hydrogen equipment since 2008, McPhy has three development, engineering and production centers in Europe (France, Italy, Germany). Its international subsidiaries provide broad commercial coverage for its innovative hydrogen solutions. McPhy is listed on Euronext Paris (compartment C, ISIN code: FR0011742329, MCPHY).\n",
      "\n",
      "The General Meeting also approved the ratification of his co-optation by the Board in April 2024.\n",
      "\n",
      "This appointment is subject to and as from the completion of the issue of the convertible bonds and the related subscription to it by EDF Pulse Holding. Please refer to point 5 below.\n",
      "\n",
      "Please also refer to the description of the Company's share buyback program, as published in the 2023 Universal Registration Document and made available to the General Meeting. This description is available on the Company's website.\n",
      "\n",
      "For further details, please refer to the Company's press releases on this subject, as well as to the additional information made available at the General Meeting. All this information is available on the Company's website.\n"
     ]
    }
   ],
   "source": [
    "df = pd.read_csv(\"../corpus/corpus_france_EDF.csv\")\n",
    "print(df.iloc[5]['body'])"
   ]
  },
  {
   "cell_type": "code",
   "execution_count": null,
   "id": "e455290c-a4d4-4ac5-adc8-6efef80f38f1",
   "metadata": {},
   "outputs": [],
   "source": []
  },
  {
   "cell_type": "code",
   "execution_count": null,
   "id": "9ba49ebe-442e-4388-b053-c4148fade6c1",
   "metadata": {},
   "outputs": [],
   "source": []
  }
 ],
 "metadata": {
  "kernelspec": {
   "display_name": "Python 3 (ipykernel)",
   "language": "python",
   "name": "python3"
  },
  "language_info": {
   "codemirror_mode": {
    "name": "ipython",
    "version": 3
   },
   "file_extension": ".py",
   "mimetype": "text/x-python",
   "name": "python",
   "nbconvert_exporter": "python",
   "pygments_lexer": "ipython3",
   "version": "3.11.5"
  }
 },
 "nbformat": 4,
 "nbformat_minor": 5
}
