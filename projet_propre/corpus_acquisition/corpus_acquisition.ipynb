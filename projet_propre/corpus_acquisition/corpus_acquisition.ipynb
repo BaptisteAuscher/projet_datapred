{
 "cells": [
  {
   "cell_type": "code",
   "execution_count": 1,
   "id": "fad9c8eb-12d6-4dfd-89f2-6fa854aa644b",
   "metadata": {},
   "outputs": [],
   "source": [
    "from get_from_news_api import *"
   ]
  },
  {
   "cell_type": "code",
   "execution_count": null,
   "id": "74862610-bc25-4688-8901-395c2510e969",
   "metadata": {},
   "outputs": [],
   "source": []
  },
  {
   "cell_type": "code",
   "execution_count": 14,
   "id": "91b2f481-c79d-4d67-acf3-43f8659fde07",
   "metadata": {
    "scrolled": true
   },
   "outputs": [],
   "source": [
    "keywords = [\n",
    "    \"Fuel\", \"Power\", \"Resource\", \"Generation\", \"Consumption\", \"Demand\", \"Supply\",\n",
    "    \"Solar\", \"Wind\", \"Hydro\", \"Biomass\", \"Geothermal\", \"Fossil\", \"Nuclear\",\n",
    "    \"Electricity\", \"Renewable\", \"Non-renewable\", \"Efficiency\", \"Conservation\",\n",
    "    \"Storage\", \"Grid\", \"Transmission\", \"Distribution\", \"Technology\", \"Innovation\",\n",
    "    \"Transition\", \"Sustainability\", \"Policy\", \"Economics\", \"Market\", \"Sector\",\n",
    "    \"Industry\", \"Infrastructure\", \"Emission\", \"Carbon\", \"Footprint\", \"Climate\",\n",
    "    \"Resilience\", \"Adaptation\", \"Impact\", \"Environmental\", \"Clean\", \"Green\",\n",
    "    \"Energy-efficient\", \"Low-carbon\", \"Decarbonization\", \"Electrification\",\n",
    "    \"Microgrid\", \"Off-grid\", \"Grid-tied\", \"Interconnection\", \"Distributed\",\n",
    "    \"Centralized\", \"Integration\", \"Hybrid\", \"Photovoltaic\", \"Concentrated\",\n",
    "    \"Thermal\", \"Turbine\", \"Hydroelectric\", \"Dam\", \"Reservoir\", \"Tidal\",\n",
    "    \"Biofuel\", \"Biogas\", \"Anaerobic\", \"Digestion\", \"Geothermal\", \"Heat\", \"pump\",\n",
    "    \"Oil\", \"Gas\", \"Coal\", \"Peat\", \"Shale\", \"Tar\", \"Methane\", \"Uranium\",\n",
    "    \"Thorium\", \"Plutonium\", \"Reactor\", \"Radioactive\", \"Waste\", \"Disposal\",\n",
    "    \"Decommissioning\", \"Regulation\", \"Legislation\", \"Incentive\", \"Subsidy\",\n",
    "    \"Tax\", \"Tariff\", \"Investment\", \"Funding\", \"Lithium\"\n",
    "]"
   ]
  },
  {
   "cell_type": "code",
   "execution_count": 15,
   "id": "cbfa96e6-cf59-45c4-8733-e8336f79fe2c",
   "metadata": {},
   "outputs": [
    {
     "name": "stdout",
     "output_type": "stream",
     "text": [
      "Sous-liste 1: \n",
      "['Fuel', 'Power', 'Resource', 'Generation', 'Consumption', 'Demand', 'Supply', 'Solar', 'Wind', 'Hydro', 'Biomass', 'Geothermal', 'Fossil', 'Nuclear', 'Electricity']\n",
      "\n",
      "Sous-liste 2: \n",
      "['Renewable', 'Non-renewable', 'Efficiency', 'Conservation', 'Storage', 'Grid', 'Transmission', 'Distribution', 'Technology', 'Innovation', 'Transition', 'Sustainability', 'Policy', 'Economics', 'Market']\n",
      "\n",
      "Sous-liste 3: \n",
      "['Sector', 'Industry', 'Infrastructure', 'Emission', 'Carbon', 'Footprint', 'Climate', 'Resilience', 'Adaptation', 'Impact', 'Environmental', 'Clean', 'Green', 'Energy-efficient', 'Low-carbon']\n",
      "\n",
      "Sous-liste 4: \n",
      "['Decarbonization', 'Electrification', 'Microgrid', 'Off-grid', 'Grid-tied', 'Interconnection', 'Distributed', 'Centralized', 'Integration', 'Hybrid', 'Photovoltaic', 'Concentrated', 'Thermal', 'Turbine', 'Hydroelectric']\n",
      "\n",
      "Sous-liste 5: \n",
      "['Dam', 'Reservoir', 'Tidal', 'Biofuel', 'Biogas', 'Anaerobic', 'Digestion', 'Geothermal', 'Heat', 'pump', 'Oil', 'Gas', 'Coal', 'Peat', 'Shale']\n",
      "\n",
      "Sous-liste 6: \n",
      "['Tar', 'Methane', 'Uranium', 'Thorium', 'Plutonium', 'Reactor', 'Radioactive', 'Waste', 'Disposal', 'Decommissioning', 'Regulation', 'Legislation', 'Incentive', 'Subsidy', 'Tax']\n",
      "\n",
      "Sous-liste 7: \n",
      "['Tariff', 'Investment', 'Funding', 'Lithium']\n",
      "\n"
     ]
    }
   ],
   "source": [
    "# Diviser en sous-listes de 15 éléments maximum\n",
    "max_elements = 15\n",
    "sublists = [keywords[i:i+max_elements] for i in range(0, len(keywords), max_elements)]\n",
    "\n",
    "# Afficher les sous-listes\n",
    "for i, sublist in enumerate(sublists):\n",
    "    print(f\"Sous-liste {i+1}: \\n{sublist}\\n\")"
   ]
  },
  {
   "cell_type": "code",
   "execution_count": 16,
   "id": "d803dec3-3fcc-4c60-9050-33d852966ab1",
   "metadata": {},
   "outputs": [],
   "source": [
    "time_interval = ['2024-03-01', '2024-03-24']"
   ]
  },
  {
   "cell_type": "code",
   "execution_count": 17,
   "id": "6d63cf3c-cacf-40bf-9e55-f0c3330183d5",
   "metadata": {},
   "outputs": [],
   "source": [
    "max_rows = 1000"
   ]
  },
  {
   "cell_type": "code",
   "execution_count": 18,
   "id": "ac36f69e-d274-4147-b896-d9dca9c80ab9",
   "metadata": {},
   "outputs": [],
   "source": [
    "result = [ get_articles(keywords=sublist, dateStart=time_interval[0], dateEnd=time_interval[1], keywordsLoc=\"title\", andOrKW=\"or\", maxRows=max_rows) \\\n",
    "            for sublist in sublists ]"
   ]
  },
  {
   "cell_type": "code",
   "execution_count": 21,
   "id": "b1570aa3-5ae0-4ec7-925c-8e417df81ac7",
   "metadata": {},
   "outputs": [],
   "source": [
    "# Enregistrer les dataframes au format csv\n",
    "k = 1\n",
    "for res in result :\n",
    "    res.to_csv(f\"../corpus/corpus_{k}.csv\", index=False)\n",
    "    k += 1"
   ]
  }
 ],
 "metadata": {
  "kernelspec": {
   "display_name": "Python 3 (ipykernel)",
   "language": "python",
   "name": "python3"
  },
  "language_info": {
   "codemirror_mode": {
    "name": "ipython",
    "version": 3
   },
   "file_extension": ".py",
   "mimetype": "text/x-python",
   "name": "python",
   "nbconvert_exporter": "python",
   "pygments_lexer": "ipython3",
   "version": "3.11.5"
  }
 },
 "nbformat": 4,
 "nbformat_minor": 5
}
