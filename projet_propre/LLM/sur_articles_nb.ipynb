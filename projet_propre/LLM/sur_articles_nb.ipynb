{
 "cells": [
  {
   "cell_type": "code",
   "execution_count": 7,
   "id": "c5743bc7-d119-46fd-82e9-0e886c475015",
   "metadata": {},
   "outputs": [],
   "source": [
    "import pandas as pd\n",
    "from LLMuse import text_to_trend"
   ]
  },
  {
   "cell_type": "code",
   "execution_count": 2,
   "id": "982fdebf-31f2-43f0-8db0-5596446f27c4",
   "metadata": {},
   "outputs": [],
   "source": [
    "df = pd.read_csv(\"../corpus/corpus_1.csv\")\n",
    "articles = df['body'].values"
   ]
  },
  {
   "cell_type": "code",
   "execution_count": 3,
   "id": "8ea303ee-2704-4a0d-8927-e6d9bf66cb13",
   "metadata": {},
   "outputs": [
    {
     "data": {
      "text/plain": [
       "\"GRID: In Connecticut, United Illuminating plans to build a replacement to the Pequonnock substation five feet above federal 100-year flood estimates and further from the shore to avoid storm outages. (News 12)\\n\\nBUILDINGS:\\n\\nHYDROGEN: A Delaware newspaper recounts what is currently known about the development of the Mid Atlantic Hydrogen Hub, although few firm details are available. (Delaware News Journal)\\n\\nUTILITIES: If New York legislators can't pass a bill to arrange a vote on whether to transition the Long Island Power Authority into a fully public utility, contracted operator PSEG might have its deal extended. (Newsday)\\n\\nCLIMATE: Philadelphia's Drexel University launches a new research center focused on policymaking that protects city dwellers from the health and equity impacts of climate change. (WHYY)\\n\\nCOMMENTARY: A founding faculty member of Syracuse University's energy program writes New York will need a massive amount of lithium to reach its energy storage and electric vehicle adoption goals, though there's no real strategy to recycle the material. (Syracuse.com)\""
      ]
     },
     "execution_count": 3,
     "metadata": {},
     "output_type": "execute_result"
    }
   ],
   "source": [
    "articles[0]"
   ]
  },
  {
   "cell_type": "code",
   "execution_count": 4,
   "id": "0dcd5d70-0e78-4c7e-9ca7-51cde98206bd",
   "metadata": {},
   "outputs": [
    {
     "data": {
      "text/plain": [
       "{'cost of lithium': ['increase', 0.25101378323775947],\n",
       " 'demand for lithium': ['increase', 0.3372566069002616],\n",
       " 'available resource in question': ['vary', 0.06876420633636693]}"
      ]
     },
     "execution_count": 4,
     "metadata": {},
     "output_type": "execute_result"
    }
   ],
   "source": [
    "text_to_trend(articles[0])"
   ]
  },
  {
   "cell_type": "code",
   "execution_count": 5,
   "id": "0da12cae-10ee-405e-b7d2-f4148e3005e3",
   "metadata": {},
   "outputs": [],
   "source": [
    "article = articles[1][:1000]"
   ]
  },
  {
   "cell_type": "code",
   "execution_count": 6,
   "id": "aade34e5-643f-43ae-bc10-3b4c084b680a",
   "metadata": {},
   "outputs": [
    {
     "data": {
      "text/plain": [
       "{'cost of storage': ['increase', 0.2561731105569276],\n",
       " 'demand for storage': ['increase', 0.1977401326173105],\n",
       " 'available resource in ukraine': ['change', 0.09854924902373385]}"
      ]
     },
     "execution_count": 6,
     "metadata": {},
     "output_type": "execute_result"
    }
   ],
   "source": [
    "text_to_trend(article)"
   ]
  },
  {
   "cell_type": "code",
   "execution_count": null,
   "id": "ea26fdc7-a017-4ae6-8ea3-06cc6d049ef5",
   "metadata": {},
   "outputs": [],
   "source": []
  },
  {
   "cell_type": "code",
   "execution_count": null,
   "id": "aec34596-769a-491e-bd1d-81bbdd9b6a87",
   "metadata": {},
   "outputs": [],
   "source": []
  }
 ],
 "metadata": {
  "kernelspec": {
   "display_name": "Python 3 (ipykernel)",
   "language": "python",
   "name": "python3"
  },
  "language_info": {
   "codemirror_mode": {
    "name": "ipython",
    "version": 3
   },
   "file_extension": ".py",
   "mimetype": "text/x-python",
   "name": "python",
   "nbconvert_exporter": "python",
   "pygments_lexer": "ipython3",
   "version": "3.11.5"
  }
 },
 "nbformat": 4,
 "nbformat_minor": 5
}
