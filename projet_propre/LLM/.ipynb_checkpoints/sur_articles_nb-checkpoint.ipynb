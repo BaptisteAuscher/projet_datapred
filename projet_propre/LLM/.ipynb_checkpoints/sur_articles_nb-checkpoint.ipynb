{
 "cells": [
  {
   "cell_type": "code",
   "execution_count": 1,
   "id": "c5743bc7-d119-46fd-82e9-0e886c475015",
   "metadata": {},
   "outputs": [
    {
     "name": "stdout",
     "output_type": "stream",
     "text": [
      "WARNING:tensorflow:From C:\\miniconda\\Lib\\site-packages\\tf_keras\\src\\losses.py:2976: The name tf.losses.sparse_softmax_cross_entropy is deprecated. Please use tf.compat.v1.losses.sparse_softmax_cross_entropy instead.\n",
      "\n"
     ]
    }
   ],
   "source": [
    "import pandas as pd\n",
    "from LLMuse import text_to_trend"
   ]
  },
  {
   "cell_type": "code",
   "execution_count": 2,
   "id": "982fdebf-31f2-43f0-8db0-5596446f27c4",
   "metadata": {},
   "outputs": [],
   "source": [
    "df = pd.read_csv(\"../corpus/corpus_1.csv\")\n",
    "articles = df['body'].values"
   ]
  },
  {
   "cell_type": "code",
   "execution_count": 3,
   "id": "cb9b4cbb-991c-49e1-8707-eee745e87e0d",
   "metadata": {},
   "outputs": [
    {
     "data": {
      "text/plain": [
       "\"GRID: In Connecticut, United Illuminating plans to build a replacement to the Pequonnock substation five feet above federal 100-year flood estimates and further from the shore to avoid storm outages. (News 12)\\n\\nBUILDINGS:\\n\\nHYDROGEN: A Delaware newspaper recounts what is currently known about the development of the Mid Atlantic Hydrogen Hub, although few firm details are available. (Delaware News Journal)\\n\\nUTILITIES: If New York legislators can't pass a bill to arrange a vote on whether to transition the Long Island Power Authority into a fully public utility, contracted operator PSEG might have its deal extended. (Newsday)\\n\\nCLIMATE: Philadelphia's Drexel University launches a new research center focused on policymaking that protects city dwellers from the health and equity impacts of climate change. (WHYY)\\n\\nCOMMENTARY: A founding faculty member of Syracuse University's energy program writes New York will need a massive amount of lithium to reach its energy storage and electric vehicle adoption goals, though there's no real strategy to recycle the material. (Syracuse.com)\""
      ]
     },
     "execution_count": 3,
     "metadata": {},
     "output_type": "execute_result"
    }
   ],
   "source": [
    "articles[0]"
   ]
  },
  {
   "cell_type": "code",
   "execution_count": 4,
   "id": "f23d9836-8940-4cb6-99e5-4dfdadcffdfe",
   "metadata": {},
   "outputs": [
    {
     "data": {
      "text/plain": [
       "{'cost of lithium': ['increase', 0.25101378323775947],\n",
       " 'demand for lithium': ['increase', 0.3372566069002616],\n",
       " 'available resource in question': ['vary', 0.06876420633636693]}"
      ]
     },
     "execution_count": 4,
     "metadata": {},
     "output_type": "execute_result"
    }
   ],
   "source": [
    "text_to_trend(articles[0])"
   ]
  },
  {
   "cell_type": "code",
   "execution_count": null,
   "id": "f4d3dddf-0d4d-4c0b-82d2-3a15de0e7f25",
   "metadata": {},
   "outputs": [],
   "source": []
  }
 ],
 "metadata": {
  "kernelspec": {
   "display_name": "Python 3 (ipykernel)",
   "language": "python",
   "name": "python3"
  },
  "language_info": {
   "codemirror_mode": {
    "name": "ipython",
    "version": 3
   },
   "file_extension": ".py",
   "mimetype": "text/x-python",
   "name": "python",
   "nbconvert_exporter": "python",
   "pygments_lexer": "ipython3",
   "version": "3.11.5"
  }
 },
 "nbformat": 4,
 "nbformat_minor": 5
}
