{
 "cells": [
  {
   "cell_type": "code",
   "execution_count": 2,
   "id": "2d401d45-96f0-46f0-9fed-7c05d909d881",
   "metadata": {},
   "outputs": [],
   "source": [
    "import tkinter as tk\n",
    "import pandas as pd\n",
    "import requests"
   ]
  },
  {
   "cell_type": "code",
   "execution_count": 3,
   "id": "db92f0ad-78e2-431a-882c-d38025b97552",
   "metadata": {},
   "outputs": [],
   "source": [
    "def get_wikipedia_link(location_name):\n",
    "    base_url = \"http://en.wikipedia.org/wiki/\"\n",
    "    formatted_location = location_name.replace(\" \", \"_\")\n",
    "    return f\"{base_url}{formatted_location}\""
   ]
  },
  {
   "cell_type": "code",
   "execution_count": 4,
   "id": "b8dfad63-b74d-4410-a4e4-68c432850950",
   "metadata": {},
   "outputs": [],
   "source": [
    "def generate_results(keywords, outputs=['title', 'url', 'body'], time=[], sent=[], countries=[], keyword_loc='body'):\n",
    "    r = requests.get(\"http://eventregistry.org/api/v1/article/getArticles\", {\n",
    "        \"action\": \"getArticles\",\n",
    "        \"keyword\": keywords,\n",
    "        \"articlesPage\": 1,\n",
    "        \"articlesCount\": 100,\n",
    "        \"articlesSortBy\": \"date\",\n",
    "        \"articlesSortByAsc\": False,\n",
    "        \"articlesArticleBodyLen\": -1,\n",
    "        \"resultType\": \"articles\",\n",
    "        \"dataType\": [\n",
    "            \"news\",\n",
    "            \"pr\"\n",
    "        ],\n",
    "        \"apiKey\": \"562eab60-8961-4906-82d9-6a5cbd74589c\",\n",
    "        \"forceMaxDataTimeWindow\": 31,\n",
    "        \"dateStart\": time[0] if len(time)>0 else None,\n",
    "        \"dateEnd\": time[1] if len(time)>0 else None,\n",
    "        \"sourceLocationUri\": [get_wikipedia_link(country) for country in countries] if len(countries)>0 else None,\n",
    "        \"minSentiment\" : sent[0] if len(sent)>0 else None,\n",
    "        \"maxSentiment\" : sent[1] if len(sent)>0 else None,\n",
    "        \"keywordLoc\" : keyword_loc\n",
    "    }, headers={\"content-type\": \"application/json\"})\n",
    "    \n",
    "    articles = r.json()[\"articles\"][\"results\"]\n",
    "\n",
    "    # Créer une liste de dictionnaires pour construire la dataframe\n",
    "    data = []\n",
    "    for article in articles:\n",
    "        data.append({x: article[x] for x in outputs})\n",
    "\n",
    "    # Créer une dataframe pandas\n",
    "    df = pd.DataFrame(data)\n",
    "\n",
    "    return df"
   ]
  },
  {
   "cell_type": "code",
   "execution_count": 5,
   "id": "f469a6d0-0706-4a8b-a3d5-54ab33a0a4a4",
   "metadata": {},
   "outputs": [],
   "source": [
    "def save_to_csv(df, output_file_path):\n",
    "    # Sauvegarder la dataframe dans un fichier CSV\n",
    "    df.to_csv(output_file_path, index=False)"
   ]
  },
  {
   "cell_type": "code",
   "execution_count": 6,
   "id": "412090c5-e8a2-418a-9f6f-dd646a9bb84f",
   "metadata": {},
   "outputs": [],
   "source": [
    "def on_results_button_click(entries):\n",
    "    parameters = {'keywords': [], 'outputs': [], 'time': [], 'sent': [], 'countries': [], 'keyword_loc': ''}\n",
    "    \n",
    "    for entry, key in zip(entries, parameters.keys()):\n",
    "        if entry.get():\n",
    "            if key == 'sent':\n",
    "                parameters[key] = [float(value) for value in entry.get().split()]\n",
    "            elif key == 'keywords' or key == 'outputs' or key == 'countries':\n",
    "                parameters[key] = entry.get().split(',')\n",
    "            else:\n",
    "                parameters[key] = entry.get()\n",
    "    \n",
    "    # Appeler generate_results pour obtenir la dataframe\n",
    "    df = generate_results(**parameters)\n",
    "    \n",
    "    # Sauvegarder la dataframe dans un fichier CSV\n",
    "    output_file_path = \"resultats.csv\"\n",
    "    save_to_csv(df, output_file_path)"
   ]
  },
  {
   "cell_type": "code",
   "execution_count": null,
   "id": "962c21de-4b10-4994-8a19-bdfc68c2704d",
   "metadata": {},
   "outputs": [],
   "source": [
    "# Interface utilisateur améliorée\n",
    "def create_label_entry(parent, label_text):\n",
    "    frame = tk.Frame(parent)\n",
    "    tk.Label(frame, text=label_text, width=20, anchor='w').pack(side='left')\n",
    "    entry = tk.Entry(frame, width=30)\n",
    "    entry.pack(side='left')\n",
    "    frame.pack(pady=5)\n",
    "    return entry\n",
    "\n",
    "def interface_utilisateur():\n",
    "    app.title(\"Collecte d'Informations\")\n",
    "\n",
    "    keywords_entry = create_label_entry(app, \"Mots-clés:\")\n",
    "    outputs_entry = create_label_entry(app, \"Colonnes de sortie:\")\n",
    "    time_entry = create_label_entry(app, \"Période (YYYY-MM-DD YYYY-MM-DD):\")\n",
    "    sent_entry = create_label_entry(app, \"Sentiment (x y):\")\n",
    "    countries_entry = create_label_entry(app, \"Pays:\")\n",
    "    keyword_loc_entry = create_label_entry(app, \"Emplacement des mots-clés:\")\n",
    "\n",
    "    entries = (keywords_entry, outputs_entry, time_entry, sent_entry, countries_entry, keyword_loc_entry)\n",
    "\n",
    "    results_button = tk.Button(app, text=\"Résultats\", command=lambda: on_results_button_click(entries))\n",
    "    results_button.pack(pady=10)\n",
    "\n",
    "interface_utilisateur()\n",
    "app.mainloop()"
   ]
  },
  {
   "cell_type": "code",
   "execution_count": null,
   "id": "b08efdff-7e6d-4ab0-8ca5-0c6bc7f17502",
   "metadata": {},
   "outputs": [],
   "source": [
    "def affichage_text():\n",
    "    results_button = tk.Button(app, text=\"Résultats\", command=lambda: on_results_button_click(*entries))\n",
    "    results_button.pack()"
   ]
  },
  {
   "cell_type": "code",
   "execution_count": null,
   "id": "f787ac64-1980-4ffa-a3f0-6dc3dcde1419",
   "metadata": {},
   "outputs": [],
   "source": [
    "entries = interface_utilisateur()\n",
    "affichage_text()\n",
    "app.mainloop()"
   ]
  },
  {
   "cell_type": "code",
   "execution_count": null,
   "id": "ca3a3659-4b51-4595-856a-2dc789d27f89",
   "metadata": {},
   "outputs": [],
   "source": []
  }
 ],
 "metadata": {
  "kernelspec": {
   "display_name": "Python 3 (ipykernel)",
   "language": "python",
   "name": "python3"
  },
  "language_info": {
   "codemirror_mode": {
    "name": "ipython",
    "version": 3
   },
   "file_extension": ".py",
   "mimetype": "text/x-python",
   "name": "python",
   "nbconvert_exporter": "python",
   "pygments_lexer": "ipython3",
   "version": "3.11.5"
  }
 },
 "nbformat": 4,
 "nbformat_minor": 5
}
