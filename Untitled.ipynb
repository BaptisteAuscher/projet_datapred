{
 "cells": [
  {
   "cell_type": "code",
   "execution_count": null,
   "id": "e1b0f44c-9274-4f01-ba93-a718513d23ef",
   "metadata": {},
   "outputs": [],
   "source": [
    "import requests\n",
    "import pandas as pd"
   ]
  },
  {
   "cell_type": "code",
   "execution_count": null,
   "id": "8173fc5b-b7b2-4c55-a970-53ad5cf5db69",
   "metadata": {},
   "outputs": [],
   "source": [
    "def get_wikipedia_link(location_name):\n",
    "    base_url = \"http://en.wikipedia.org/wiki/\"\n",
    "    formatted_location = location_name.replace(\" \", \"_\")\n",
    "    return f\"{base_url}{formatted_location}\""
   ]
  },
  {
   "cell_type": "code",
   "execution_count": null,
   "id": "44f73182-e830-4720-b480-c4403917c11c",
   "metadata": {},
   "outputs": [],
   "source": [
    "def fetch_articles(keywords, outputs, time, sent, countries, keyword_loc):\n",
    "    r = requests.get(\"http://eventregistry.org/api/v1/article/getArticles\", {\n",
    "        \"action\": \"getArticles\",\n",
    "        \"keyword\": keywords,\n",
    "        \"articlesPage\": 1,\n",
    "        \"articlesCount\": 100,\n",
    "        \"articlesSortBy\": \"date\",\n",
    "        \"articlesSortByAsc\": False,\n",
    "        \"articlesArticleBodyLen\": -1,\n",
    "        \"resultType\": \"articles\",\n",
    "        \"dataType\": [\"news\", \"pr\"],\n",
    "        \"apiKey\": \"562eab60-8961-4906-82d9-6a5cbd74589c\",\n",
    "        \"forceMaxDataTimeWindow\": 31,\n",
    "        \"dateStart\": time[0] if len(time) > 0 else None,\n",
    "        \"dateEnd\": time[1] if len(time) > 0 else None,\n",
    "        \"sourceLocationUri\": countries if len(countries) > 0 else None,\n",
    "        \"minSentiment\": sent[0] if len(sent) > 0 else None,\n",
    "        \"maxSentiment\": sent[1] if len(sent) > 0 else None,\n",
    "        \"keywordLoc\": keyword_loc\n",
    "    }, headers={\"content-type\": \"application/json\"})\n",
    "\n",
    "    articles = r.json()[\"articles\"][\"results\"]\n",
    "    return articles"
   ]
  },
  {
   "cell_type": "code",
   "execution_count": null,
   "id": "7a11dc09-037d-435f-8dab-340e1912a46c",
   "metadata": {},
   "outputs": [],
   "source": [
    "def save_to_dataframe(articles, outputs):\n",
    "    data = {key: [] for key in outputs}\n",
    "    for article in articles:\n",
    "        for key in outputs:\n",
    "            data[key].append(article[key])\n",
    "\n",
    "    df = pd.DataFrame(data)\n",
    "    return df"
   ]
  },
  {
   "cell_type": "code",
   "execution_count": null,
   "id": "61d2ceb0-7442-488f-b535-82ec752d7609",
   "metadata": {},
   "outputs": [],
   "source": [
    "def save_to_csv(df, filename=\"resultat.csv\"):\n",
    "    df.to_csv(filename, index=False)\n",
    "    print(f\"DataFrame saved to {filename}\")"
   ]
  },
  {
   "cell_type": "code",
   "execution_count": 9,
   "id": "ae1f9a02-bc48-4096-877f-7c905232c99e",
   "metadata": {},
   "outputs": [
    {
     "name": "stdout",
     "output_type": "stream",
     "text": [
      "DataFrame saved to resultat.csv\n"
     ]
    }
   ],
   "source": [
    "def main():\n",
    "    # Sample data for demonstration, replace with your own logic for obtaining inputs\n",
    "    keywords = [\"price\"]\n",
    "    outputs = [\"body\"]\n",
    "    time = [\"2023-01-01\", \"2024-01-01\"]\n",
    "    sent = [-0.5, 0.5]\n",
    "    countries = [\"England\"]\n",
    "    keyword_loc = [\"body\"]\n",
    "\n",
    "    articles = fetch_articles(keywords, outputs, time, sent, countries, keyword_loc)\n",
    "\n",
    "    if \"len\" in outputs:\n",
    "        print(\"Number of articles:\", len(articles))\n",
    "        outputs.remove(\"len\")\n",
    "\n",
    "    df = save_to_dataframe(articles, outputs)\n",
    "    save_to_csv(df)\n",
    "\n",
    "if __name__ == \"__main__\":\n",
    "    main()"
   ]
  },
  {
   "cell_type": "code",
   "execution_count": null,
   "id": "4f97135a-a09d-49c6-92e5-82ed5bdcc762",
   "metadata": {},
   "outputs": [],
   "source": []
  }
 ],
 "metadata": {
  "kernelspec": {
   "display_name": "Python 3 (ipykernel)",
   "language": "python",
   "name": "python3"
  },
  "language_info": {
   "codemirror_mode": {
    "name": "ipython",
    "version": 3
   },
   "file_extension": ".py",
   "mimetype": "text/x-python",
   "name": "python",
   "nbconvert_exporter": "python",
   "pygments_lexer": "ipython3",
   "version": "3.11.5"
  }
 },
 "nbformat": 4,
 "nbformat_minor": 5
}
